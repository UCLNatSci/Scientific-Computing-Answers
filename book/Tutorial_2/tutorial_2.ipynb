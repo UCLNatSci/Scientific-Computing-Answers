{
 "cells": [
  {
   "cell_type": "markdown",
   "metadata": {
    "collapsed": false
   },
   "source": [
    "# Tutorial 2\n",
    "\n",
    "## Question 1\n",
    "\n",
    "Use `for` loops and `print(end=\"\")` to write functions which print the following patterns:\n",
    "\n",
    "1. `print_square(n)` where `n` is the number of stars along each edge.\n",
    "\n",
    "```\n",
    "*****\n",
    "*   *\n",
    "*   *\n",
    "*   *\n",
    "*****\n",
    "```\n",
    "2. `print_rhombus(n)` where `n` is the number of stars along each edge.\n",
    "\n",
    "```\n",
    "    *****\n",
    "   *   *\n",
    "  *   *\n",
    " *   *\n",
    "*****\n",
    "```\n",
    " \n",
    "3. `print_numbers(n)` where `n` is the number at the centre.\n",
    "\n",
    "```\n",
    "1       1\n",
    " 2     2\n",
    "  3   3\n",
    "   4 4\n",
    "    5\n",
    "   4 4\n",
    "  3   3\n",
    " 2     2\n",
    "1       1\n",
    "```"
   ]
  },
  {
   "cell_type": "code",
   "execution_count": 16,
   "metadata": {
    "collapsed": false
   },
   "outputs": [
    {
     "name": "stdout",
     "output_type": "stream",
     "text": [
      "*****\n",
      "*   *\n",
      "*   *\n",
      "*   *\n",
      "*****\n",
      "\n",
      "    *****\n",
      "   *   *\n",
      "  *   *\n",
      " *   *\n",
      "*****\n"
     ]
    }
   ],
   "source": [
    "# this question is perhaps harder than it intially looks.\n",
    "# The key is to take it break it down into individual steps before\n",
    "# starting  to write any code.\n",
    "\n",
    "def print_square(n):\n",
    "    for i in range(n):\n",
    "        print(\"*\", end=\"\")\n",
    "    print()\n",
    "    for i in range(n - 2):\n",
    "        print(\"*\", end = \"\")\n",
    "        for j in range(n - 2):\n",
    "            print(\" \", end=\"\")\n",
    "        print(\"*\")\n",
    "    for i in range(n):\n",
    "        print(\"*\", end=\"\")\n",
    "    print()\n",
    "        \n",
    "def print_rhombus(n):\n",
    "    for i in range(n-1):\n",
    "        print(\" \", end=\"\")\n",
    "    for i in range(n):\n",
    "        print(\"*\", end=\"\")\n",
    "    print()\n",
    "    for i in range(n - 2):\n",
    "        for j in range(n - 2 - i):\n",
    "            print(\" \", end=\"\")\n",
    "        print(\"*\", end=\"\")\n",
    "        for j in range(n-2):\n",
    "            print(\" \", end=\"\")\n",
    "        print(\"*\")\n",
    "    for i in range(n):\n",
    "        print(\"*\", end=\"\")\n",
    "    print()\n",
    "print_square(5)\n",
    "print()\n",
    "print_rhombus(5)"
   ]
  },
  {
   "cell_type": "markdown",
   "metadata": {
    "collapsed": false
   },
   "source": [
    "## Question 2\n",
    "\n",
    "An integer $n$ is a *prime number* if it is divisible only by 1 and $n$. \n",
    "\n",
    "1. Write a function `is_divisible(n, m)` which returns `True` if `n` is divisible by `m`, and otherwise returns `False`.\n",
    "1. Write a function `is_prime(n)` which returns `False` if `n` is divisible by any integer between `2` and `n-1`, and otherwise returns `True`.\n",
    "1. Write a function `number_of_primes(n)` which returns the number of prime numbers less than or equal to `n` [NB 1 is *not* a prime number].\n",
    "\n",
    "Check the correctness of your functions by writing two tests for each."
   ]
  },
  {
   "cell_type": "code",
   "execution_count": 1,
   "metadata": {
    "collapsed": false
   },
   "outputs": [
    {
     "name": "stdout",
     "output_type": "stream",
     "text": [
      "4 is divisible by 2: True\n",
      "4 is divisible by 3: False\n",
      "7 is a prime number: True\n",
      "8 is a prime number: False\n",
      "Number of prime numbers up to 10: 4\n",
      "Number of prime numbers up to 11: 5\n"
     ]
    }
   ],
   "source": [
    "# It is crucial to understand how the importance of the return statement.\n",
    "# The return statement determines the *output* of the function.\n",
    "# For 1 and 2 the function shoud return a value of True or False.\n",
    "\n",
    "# 1. The expression n % m == 0 is True if n is divisible m; otherwise false\n",
    "def is_divisible(n, m):\n",
    "    return n % m == 0\n",
    "\n",
    "# 2. Construct a loop and *immediately* exit the function as soon as\n",
    "# a value which divides into n. Only if no such value is found will the final return statement be reached.\n",
    "def is_prime(n):\n",
    "    for m in range(2, n):\n",
    "        if is_divisible(n, m):\n",
    "            return False\n",
    "    return True\n",
    "\n",
    "def number_of_primes(n):\n",
    "    i = 0\n",
    "    for m in range(2, n+1):\n",
    "        if is_prime(m):\n",
    "            i += 1\n",
    "    return i\n",
    "            \n",
    "print(\"4 is divisible by 2:\", is_divisible(4, 2))\n",
    "print(\"4 is divisible by 3:\", is_divisible(4, 3))\n",
    "\n",
    "print(\"7 is a prime number:\", is_prime(7))\n",
    "print(\"8 is a prime number:\", is_prime(8))\n",
    "\n",
    "print(\"Number of prime numbers up to 10:\", number_of_primes(10))\n",
    "print(\"Number of prime numbers up to 11:\", number_of_primes(11))\n",
    "    \n",
    "    "
   ]
  },
  {
   "cell_type": "markdown",
   "metadata": {
    "collapsed": false
   },
   "source": [
    "## Question 3\n",
    "\n",
    "A [solid of revolution](https://en.wikipedia.org/wiki/Solid_of_revolution) is a three-dimensional figure contstructed by rotating a curve about a straight line. We can estimate the volume of a solid of revolution by dividing it into a sequence of stacked discs and summing the volume of each.\n",
    "\n",
    "A sphere of radius $R$ is formed by rotating the curve $y = \\sqrt{R^2 - x^2}$ around the x-axis between $-R$ and $R$.\n",
    "\n",
    "![a](https://miro.medium.com/max/2400/0*d7QEcno6XhPOiJSt.png)\n",
    "\n",
    "Use the following steps to estimate the volume of a sphere of radius 1.\n",
    "\n",
    "1. Write a function `vol_disc(R, x, dx)` which returns the volume of the disc centred at position `x` with thickness `dx`. \n",
    "1. Estimate the volume of a sphere of radius 1 by dividing the figure into 10 discs equally spaced between `-1` and `1` [use a value of 3.14159 for $\\pi$].\n",
    "1. Write a function `sphere_vol(R, n)` which returns the estimate of the volume of a sphere of radius `R` calculated by dividing it into `n` discs.\n",
    "1. The estimate should get more accurate as we increase `n`. We can estimate the accuracy by calculating the difference between `sphere_vol(R, n)` and `sphere_vol(R, n-1)`. For `R = 1`, how large does `n` need to be so that difference between consecutive estimates is less than $10^{-4}$?"
   ]
  },
  {
   "cell_type": "code",
   "execution_count": 1,
   "metadata": {
    "collapsed": false,
    "scrolled": true
   },
   "outputs": [
    {
     "name": "stdout",
     "output_type": "stream",
     "text": [
      "Volume of sphere radius 1: 4.1468988\n",
      "4/3 * pi * 1^3: 4.188786666666666\n",
      "46\n",
      "4.186718130041153\n"
     ]
    }
   ],
   "source": [
    "# This question is designed to allow you to combine loops and functions together.\n",
    "# It is a very typical example of how we might perform a computation in scientific computing.\n",
    "# If you couldn't complete it this time it would make excellent exam preparation!\n",
    "\n",
    "# 1. Writing the function first allows to test this code separately from the remaining complexity\n",
    "# of the problem. \n",
    "\n",
    "def vol_disc(R, x, dx):\n",
    "    r = (R**2 - x**2)**0.5\n",
    "    return 3.14159 * r ** 2 * dx\n",
    "    # We hardcode the value of pi here. Later you will learn about numpy, a mathematical\n",
    "    # library containing many useful functions, including a value for pi.\n",
    "\n",
    "# 2. We first set variables containing values we will use in the computation.\n",
    "vol = 0\n",
    "dx = 2 / 10 # width of each disc\n",
    "for i in range(10):\n",
    "    x = -1 + (i / 10) * 2 # the x position of the left-hand edge of each disc\n",
    "    vol += vol_disc(1, x, dx)\n",
    "    \n",
    "print(\"Volume of sphere radius 1:\", vol)\n",
    "\n",
    "# let's check it against the formula vol = (4/3)*pi*r**3\n",
    "print(\"4/3 * pi * 1^3:\", (4/3) * 3.14159)\n",
    "\n",
    "# 3. It would be a good idea to draw a diagram before writing this code. \n",
    "\n",
    "def sphere_vol(R, n):\n",
    "    vol = 0\n",
    "    dx = 2 * R / n\n",
    "    pi = 3.14159\n",
    "    for i in range(n):\n",
    "        x = -R + (i / n) * 2 * R # x is the position of the  left-hand edge of each disc\n",
    "        vol += vol_disc(R, x, dx)\n",
    "    return vol\n",
    "\n",
    "# 4. Use a while loop so that we terminate once we reach the required level of accuracy\n",
    "        \n",
    "diff = 1\n",
    "vol = 0\n",
    "n = 2\n",
    "while diff > 1e-4:\n",
    "    vol_prev = vol\n",
    "    vol = sphere_vol(1, n)\n",
    "    diff = vol - vol_prev\n",
    "    # could use np.abs here instead (when you learn about numpy)\n",
    "    if diff < 0:\n",
    "        diff = diff * -1\n",
    "    n += 1\n",
    "    # print(\"vol:\", vol)\n",
    "    # print(\"diff:\", diff)\n",
    "        \n",
    "print(n)\n",
    "print(vol)\n",
    "    "
   ]
  }
 ],
 "metadata": {
  "kernelspec": {
   "display_name": "Python 3 (system-wide)",
   "language": "python",
   "metadata": {
    "cocalc": {
     "description": "Python 3 programming language",
     "priority": 100,
     "url": "https://www.python.org/"
    }
   },
   "name": "python3",
   "resource_dir": "/ext/jupyter/kernels/python3"
  },
  "language_info": {
   "codemirror_mode": {
    "name": "ipython",
    "version": 3
   },
   "file_extension": ".py",
   "mimetype": "text/x-python",
   "name": "python",
   "nbconvert_exporter": "python",
   "pygments_lexer": "ipython3",
   "version": "3.8.10"
  }
 },
 "nbformat": 4,
 "nbformat_minor": 4
}