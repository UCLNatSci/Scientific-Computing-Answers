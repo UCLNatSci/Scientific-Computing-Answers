{
 "cells": [
  {
   "cell_type": "markdown",
   "metadata": {
    "collapsed": false
   },
   "source": [
    "# Tutorial 2\n",
    "\n",
    "## Question 1"
   ]
  },
  {
   "cell_type": "code",
   "execution_count": 1,
   "metadata": {
    "collapsed": false
   },
   "outputs": [
    {
     "name": "stdout",
     "output_type": "stream",
     "text": [
      "*****\n",
      "*   *\n",
      "*   *\n",
      "*   *\n",
      "*****\n",
      "\n",
      "    *****\n",
      "   *   *\n",
      "  *   *\n",
      " *   *\n",
      "*****\n"
     ]
    }
   ],
   "source": [
    "# this question is perhaps harder than it intially looks.\n",
    "# The key is to take it break it down into individual steps before\n",
    "# starting  to write any code.\n",
    "\n",
    "def print_square(n):\n",
    "    for i in range(n):\n",
    "        print(\"*\", end=\"\")\n",
    "    print()\n",
    "    for i in range(n - 2):\n",
    "        print(\"*\", end = \"\")\n",
    "        for j in range(n - 2):\n",
    "            print(\" \", end=\"\")\n",
    "        print(\"*\")\n",
    "    for i in range(n):\n",
    "        print(\"*\", end=\"\")\n",
    "    print()\n",
    "        \n",
    "def print_rhombus(n):\n",
    "    for i in range(n-1):\n",
    "        print(\" \", end=\"\")\n",
    "    for i in range(n):\n",
    "        print(\"*\", end=\"\")\n",
    "    print()\n",
    "    for i in range(n - 2):\n",
    "        for j in range(n - 2 - i):\n",
    "            print(\" \", end=\"\")\n",
    "        print(\"*\", end=\"\")\n",
    "        for j in range(n-2):\n",
    "            print(\" \", end=\"\")\n",
    "        print(\"*\")\n",
    "    for i in range(n):\n",
    "        print(\"*\", end=\"\")\n",
    "    print()\n",
    "print_square(5)\n",
    "print()\n",
    "print_rhombus(5)"
   ]
  },
  {
   "cell_type": "markdown",
   "metadata": {
    "collapsed": false
   },
   "source": [
    "## Question 2"
   ]
  },
  {
   "cell_type": "code",
   "execution_count": 2,
   "metadata": {
    "collapsed": false
   },
   "outputs": [
    {
     "name": "stdout",
     "output_type": "stream",
     "text": [
      "4 is divisible by 2: True\n",
      "4 is divisible by 3: False\n",
      "7 is a prime number: True\n",
      "8 is a prime number: False\n",
      "Number of prime numbers up to 10: 4\n",
      "Number of prime numbers up to 11: 5\n"
     ]
    }
   ],
   "source": [
    "# It is crucial to understand how the importance of the return statement.\n",
    "# The return statement determines the *output* of the function.\n",
    "# For 1 and 2 the function shoud return a value of True or False.\n",
    "\n",
    "# 1. The expression n % m == 0 is True if n is divisible m; otherwise false\n",
    "def is_divisible(n, m):\n",
    "    return n % m == 0\n",
    "\n",
    "# 2. Construct a loop and *immediately* exit the function as soon as\n",
    "# a value which divides into n. Only if no such value is found will the final return statement be reached.\n",
    "def is_prime(n):\n",
    "    for m in range(2, n):\n",
    "        if is_divisible(n, m):\n",
    "            return False\n",
    "    return True\n",
    "\n",
    "def number_of_primes(n):\n",
    "    i = 0\n",
    "    for m in range(2, n+1):\n",
    "        if is_prime(m):\n",
    "            i += 1\n",
    "    return i\n",
    "            \n",
    "print(\"4 is divisible by 2:\", is_divisible(4, 2))\n",
    "print(\"4 is divisible by 3:\", is_divisible(4, 3))\n",
    "\n",
    "print(\"7 is a prime number:\", is_prime(7))\n",
    "print(\"8 is a prime number:\", is_prime(8))\n",
    "\n",
    "print(\"Number of prime numbers up to 10:\", number_of_primes(10))\n",
    "print(\"Number of prime numbers up to 11:\", number_of_primes(11))\n",
    "    \n",
    "    "
   ]
  },
  {
   "cell_type": "markdown",
   "metadata": {
    "collapsed": false
   },
   "source": [
    "## Question 3\n",
    "\n",
    "This question is designed to allow you to combine loops and functions together.\n",
    "It is a very typical example of how we might perform a computation in scientific computing.\n",
    "If you couldn't complete it this time it would make excellent exam preparation!\n",
    "\n",
    "We need to calculate the sum of the areas of the discs in the following diagram.\n",
    "\n",
    "\n",
    "```{image} sphere_vol.jpg\n",
    ":alt: sphere volume\n",
    ":width: 500px\n",
    "```\n",
    "\n",
    "1. First, write a function `vol_disc` which returns the volume of a single disc. Writing the function first allows to test this code separately from the remaining complexity of the problem. "
   ]
  },
  {
   "cell_type": "code",
   "execution_count": 3,
   "metadata": {
    "collapsed": false,
    "scrolled": true
   },
   "outputs": [
   ],
   "source": [
    "# 1. \n",
    "\n",
    "def vol_disc(R, x, dx):\n",
    "    r = (R**2 - x**2)**0.5\n",
    "    return 3.14159 * r ** 2 * dx\n",
    "    # We hardcode the value of pi here. Later you will learn about numpy, a mathematical\n",
    "    # library containing many useful functions, including a value for pi.\n",
    "\n"
   ]
  },
  {
   "cell_type": "markdown",
   "metadata": {
    "collapsed": false
   },
   "source": [
    "2. Next, calculate the sum of 10 discs. The width of each is 2 / 10.\n",
    "\n",
    "There are 10 discs, with `i` running from `0` to `9`. Left hand edge of disc `i` is at position `x=-1 + (i/10) * 2`."
   ]
  },
  {
   "cell_type": "code",
   "execution_count": 4,
   "metadata": {
    "collapsed": false
   },
   "outputs": [
    {
     "name": "stdout",
     "output_type": "stream",
     "text": [
      "Volume of sphere radius 1: 4.1468988\n",
      "4/3 * pi * 1^3: 4.188786666666666\n"
     ]
    }
   ],
   "source": [
    "# 2. We first set variables containing values we will use in the computation.\n",
    "vol = 0\n",
    "d = 2 / 10 # width of each disc\n",
    "for i in range(10):\n",
    "    x = -1 + (i / 10) * 2 # the x position of the left-hand edge of each disc\n",
    "    vol += vol_disc(1, x, d)\n",
    "    \n",
    "print(\"Volume of sphere radius 1:\", vol)\n",
    "\n",
    "# let's check it against the formula vol = (4/3)*pi*r**3\n",
    "print(\"4/3 * pi * 1^3:\", (4/3) * 3.14159)"
   ]
  },
  {
   "cell_type": "markdown",
   "metadata": {
    "collapsed": false
   },
   "source": [
    "3. Extend to a sphere of radius `R` divided into `n` discs. Left hand edge of disc `i` is at position `x = -R + (i / n) * 2 * R`."
   ]
  },
  {
   "cell_type": "code",
   "execution_count": 5,
   "metadata": {
    "collapsed": false
   },
   "outputs": [
   ],
   "source": [
    "def sphere_vol(R, n):\n",
    "    vol = 0\n",
    "    dx = 2 * R / n\n",
    "    pi = 3.14159\n",
    "    for i in range(n):\n",
    "        x = -R + (i / n) * 2 * R # x is the position of the  left-hand edge of each disc\n",
    "        vol += vol_disc(R, x, dx)\n",
    "    return vol\n"
   ]
  },
  {
   "cell_type": "markdown",
   "metadata": {
    "collapsed": false
   },
   "source": [
    "4. This is another application of a `while` loop. We need to terminate once the difference between consecutive estimates is less than the tolerance of $1 \\times 10^{-4}$.\n",
    "\n",
    "To calculate this, we need to keep track of the previous estimate using a variable `vol_prev` then calculate the difference. But note that the difference could be positive or negative, which is why we have the condition `diff > 1e-4 and diff < -1e-4`. When we learn about `numpy` we can instead use the function `np.abs`."
   ]
  },
  {
   "cell_type": "code",
   "execution_count": 9,
   "metadata": {
    "collapsed": false
   },
   "outputs": [
    {
     "name": "stdout",
     "output_type": "stream",
     "text": [
      "3.14159\n",
      "3.7233659259259255\n",
      "3.9269874999999996\n",
      "4.0212352\n",
      "4.07243148148148\n",
      "4.103301224489796\n",
      "4.123336875\n",
      "4.137073251028807\n",
      "4.1468988\n",
      "4.154168595041322\n",
      "4.159697870370369\n",
      "4.164000946745562\n",
      "4.167415306122448\n",
      "4.170169837037037\n",
      "4.17242421875\n",
      "4.174292595155709\n",
      "4.175858312757201\n",
      "4.177183379501384\n",
      "4.1783147000000005\n",
      "4.17928828420257\n",
      "4.18013214876033\n",
      "4.180868355387524\n",
      "4.181514467592592\n",
      "4.182084608\n",
      "4.182590236686392\n",
      "4.183040731595793\n",
      "4.183443826530612\n",
      "4.1838059453032095\n",
      "4.184132459259258\n",
      "4.1844278876170655\n",
      "4.1846960546875\n",
      "4.18494021426385\n",
      "4.185163148788927\n",
      "4.185367248979591\n",
      "4.185554578189301\n",
      "4.1857269247626006\n",
      "4.1858858448753455\n",
      "4.186032697786543\n",
      "4.186168674999999\n",
      "4.186294824509221\n",
      "4.1864120710506425\n",
      "4.186521233098971\n",
      "4.186623037190083\n",
      "4.186718130041153\n",
      "n = 46 vol = 4.186718130041153\n"
     ]
    }
   ],
   "source": [
    "diff = 1\n",
    "vol = 0\n",
    "n = 2\n",
    "while diff > 1e-4 or diff < -1e-4:\n",
    "    vol_prev = vol\n",
    "    vol = sphere_vol(1, n)\n",
    "    diff = vol - vol_prev\n",
    "    print(vol)\n",
    "\n",
    "    n += 1\n",
    "    # print(\"vol:\", vol)\n",
    "    # print(\"diff:\", diff)\n",
    "        \n",
    "print(\"n =\", n, \"vol =\", vol)"
   ]
  },
  {
   "cell_type": "code",
   "execution_count": 0,
   "metadata": {
    "collapsed": false
   },
   "outputs": [
   ],
   "source": [
   ]
  }
 ],
 "metadata": {
  "kernelspec": {
   "display_name": "Python 3 (system-wide)",
   "language": "python",
   "metadata": {
    "cocalc": {
     "description": "Python 3 programming language",
     "priority": 100,
     "url": "https://www.python.org/"
    }
   },
   "name": "python3",
   "resource_dir": "/ext/jupyter/kernels/python3"
  },
  "language_info": {
   "codemirror_mode": {
    "name": "ipython",
    "version": 3
   },
   "file_extension": ".py",
   "mimetype": "text/x-python",
   "name": "python",
   "nbconvert_exporter": "python",
   "pygments_lexer": "ipython3",
   "version": "3.8.10"
  }
 },
 "nbformat": 4,
 "nbformat_minor": 4
}