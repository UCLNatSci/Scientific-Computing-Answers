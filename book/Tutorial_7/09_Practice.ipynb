{
 "cells": [
  {
   "cell_type": "markdown",
   "metadata": {
    "collapsed": false
   },
   "source": [
    "# Practice 9"
   ]
  },
  {
   "cell_type": "markdown",
   "metadata": {
    "collapsed": false
   },
   "source": [
    "## Question 1\n",
    "\n",
    "Follow the steps below to create a 3 x 5 numpy array representing the following data:\n",
    "$$\\begin{matrix}\n",
    "0 & 1 & 2 & 3 & 4 \\\\\n",
    "0 & 1.5 & 3 & 4.5 & 6\\\\\n",
    "0 & 0.25 & 0.5 & 0.75 & 1\n",
    "\\end{matrix}$$\n",
    "\n",
    "1. Use `np.linspace` or `np.arange` to create three 1 x 5 arrays `[0 1 2 3 4]`, `[0. 1.5 3. 4.5 6.]` and `[0 0.25 0.5 0.75 1.]`.\n",
    "1. Use `np.zeros` to create an 5 x 3 array of zeros.\n",
    "1. Use slicing to assign each 1 x 5 array to each row of the array.\n"
   ]
  },
  {
   "cell_type": "code",
   "execution_count": 25,
   "metadata": {
    "collapsed": false
   },
   "outputs": [
    {
     "name": "stdout",
     "output_type": "stream",
     "text": [
      "[[0.   1.   2.   3.   4.  ]\n",
      " [0.   1.5  3.   4.5  6.  ]\n",
      " [0.   0.25 0.5  0.75 1.  ]]\n"
     ]
    }
   ],
   "source": [
    "import numpy as np\n",
    "\n",
    "\n",
    "row1 = np.linspace(0, 4, num=5)\n",
    "row2 = np.linspace(0, 6, num=5)\n",
    "row3 = np.linspace(0, 1, num=5)\n",
    "\n",
    "q1 = np.zeros((3, 5))\n",
    "\n",
    "q1[0,:] = row1\n",
    "q1[1,:] = row2\n",
    "q1[2,:] = row3\n",
    "\n",
    "print(a)\n"
   ]
  },
  {
   "cell_type": "markdown",
   "metadata": {
    "collapsed": false
   },
   "source": [
    "## Question 2\n",
    "\n",
    "Use `np.sum` to create:\n",
    "1. A 1 x 3 array containing the sum of the rows\n",
    "1. A 1 x 5 array containing the sum of the columns\n",
    "\n",
    "of the array created in Question 1."
   ]
  },
  {
   "cell_type": "code",
   "execution_count": 26,
   "metadata": {
    "collapsed": false
   },
   "outputs": [
    {
     "name": "stdout",
     "output_type": "stream",
     "text": [
      "[ 0.    2.75  5.5   8.25 11.  ]\n",
      "[10.  15.   2.5]\n"
     ]
    }
   ],
   "source": [
    "sum_of_rows = np.sum(q1, axis=0)\n",
    "sum_of_columns = np.sum(q1, axis=1)\n",
    "\n",
    "print(sum_of_rows)\n",
    "print(sum_of_columns)"
   ]
  },
  {
   "cell_type": "markdown",
   "metadata": {
    "collapsed": false
   },
   "source": [
    "## Question 3\n",
    "Write a function `threshold(a, x)` which thresholds the array `a` at the value `x`. The array returned by the function should be the same shape as `a`, and `True` where `a` greater or equal to x, otherwise `False`. Suppose `q1` contains the following data:\n",
    "\n",
    "$$\\begin{matrix}\n",
    "0 & 1 & 2 & 3 & 4 \\\\\n",
    "0 & 1.5 & 3 & 4.5 & 6\\\\\n",
    "0 & 0.25 & 0.5 & 0.75 & 1\n",
    "\\end{matrix}$$\n",
    "\n",
    "```\n",
    "z = threshold(q1, 1.5)\n",
    "print(z)\n",
    "[[False False  True  True  True]\n",
    " [False  True  True  True  True]\n",
    " [False False False False False]]\n",
    "```"
   ]
  },
  {
   "cell_type": "code",
   "execution_count": 28,
   "metadata": {
    "collapsed": false
   },
   "outputs": [
    {
     "name": "stdout",
     "output_type": "stream",
     "text": [
      "[[False False  True  True  True]\n",
      " [False  True  True  True  True]\n",
      " [False False False False False]]\n"
     ]
    }
   ],
   "source": [
    "def threshold(a, x):\n",
    "    b = (a >= x)\n",
    "    return b\n",
    "\n",
    "print(threshold(q1, 1.5))"
   ]
  },
  {
   "cell_type": "markdown",
   "metadata": {
    "collapsed": false
   },
   "source": [
    "## Question 4\n",
    "\n",
    "The image file `sixbysix.png` consists of a large but faint blob in the top left, and a number of small number of bright pixels elsewhere. Follow the particle tracking method in the notes to find and mark the large blob, as below.\n",
    "\n",
    "1. Read the image into an array and reduce to greyscale\n",
    "1. Threshold the array at a suitable value\n",
    "1. Find all blobs in the image\n",
    "1. Identify the largest blob\n",
    "1. Determine the co-ordinates of the largest blob and \n",
    "\n",
    "![](sixbysix_marked.png)"
   ]
  },
  {
   "cell_type": "code",
   "execution_count": 1,
   "metadata": {
    "collapsed": false
   },
   "outputs": [
    {
     "data": {
      "image/png": "[encoded data removed]",
      "text/plain": [
       "<Figure size 864x504 with 1 Axes>"
      ]
     },
     "execution_count": 1,
     "metadata": {
      "image/png": {
       "height": 411,
       "width": 408
      },
      "needs_background": "light"
     },
     "output_type": "execute_result"
    }
   ],
   "source": [
    "import numpy as np\n",
    "import matplotlib.pyplot as plt\n",
    "\n",
    "z = np.zeros((6,6))\n",
    "z[0:3,0:3] = .3\n",
    "\n",
    "\n",
    "for i in range(5):\n",
    "\n",
    "    x = np.random.randint(6)\n",
    "    y = np.random.randint(6)\n",
    "    z[x,y] = 1\n",
    "\n",
    "\n",
    "plt.imshow(z)\n",
    "\n",
    "import matplotlib.image as mpimg # import the image module\n",
    "\n",
    "mpimg.imsave(\"sixbysix.png\", z, vmax = 2, cmap=\"gray\")\n",
    "\n"
   ]
  },
  {
   "cell_type": "code",
   "execution_count": 106,
   "metadata": {
    "collapsed": false
   },
   "outputs": [
    {
     "name": "stdout",
     "output_type": "stream",
     "text": [
      "Min: 1.0\n",
      "Max: 2.5058825\n",
      "[[ True  True  True False False False]\n",
      " [ True  True  True False False False]\n",
      " [ True  True  True False False False]\n",
      " [ True False False  True False False]\n",
      " [False False False False False  True]\n",
      " [False  True False False False False]]\n",
      "number of blobs: 4\n",
      "[[1 1 1 0 0 0]\n",
      " [1 1 1 0 0 0]\n",
      " [1 1 1 0 0 0]\n",
      " [1 0 0 2 0 0]\n",
      " [0 0 0 0 0 3]\n",
      " [0 4 0 0 0 0]]\n",
      "sizes: [10.  1.  1.  1.]\n",
      "index: 0\n",
      "location: (1.2, 0.9)\n",
      "index: 0\n"
     ]
    },
    {
     "data": {
      "image/png": "[encoded data removed]",
      "text/plain": [
       "<Figure size 288x288 with 1 Axes>"
      ]
     },
     "execution_count": 106,
     "metadata": {
      "image/png": {
       "height": 248,
       "width": 245
      },
      "needs_background": "light"
     },
     "output_type": "execute_result"
    },
    {
     "data": {
      "image/png": "[encoded data removed]",
      "text/plain": [
       "<Figure size 288x288 with 1 Axes>"
      ]
     },
     "execution_count": 106,
     "metadata": {
      "image/png": {
       "height": 248,
       "width": 245
      },
      "needs_background": "light"
     },
     "output_type": "execute_result"
    }
   ],
   "source": [
    "import numpy as np\n",
    "import matplotlib.pyplot as plt\n",
    "import matplotlib.image as mpimg # import the image module\n",
    "import scipy.ndimage as sn # import the scipy.ndimage package\n",
    "\n",
    "x = mpimg.imread(\"sixbysix.png\") # read the image into an array\n",
    "z = np.sum(x, 2) # sum the RGBA values for each pixel\n",
    "\n",
    "print(\"Min:\", np.min(z))\n",
    "print(\"Max:\", np.max(z))\n",
    "\n",
    "thres = 1.4\n",
    "x_thres = z > thres # Determine pixels which are above the threshold\n",
    "print(x_thres)\n",
    "plt.figure(figsize=(4,4))\n",
    "plt.imshow(x_thres) # Note that in Python True = 1 and False = 0\n",
    "\n",
    "x_labels, n = sn.label(x_thres) # generate \n",
    "print(\"number of blobs:\", n)\n",
    "print(x_labels)\n",
    "\n",
    "sizes = sn.sum(x_thres, x_labels, range(1, n+1))\n",
    "print(\"sizes:\", sizes)\n",
    "\n",
    "idx = np.argmax(sizes) # get the index of the largest blob\n",
    "print(\"index:\", idx)\n",
    "\n",
    "location = sn.center_of_mass(x_thres, x_labels, idx + 1) # determine the coordinates of the largest blob\n",
    "print(\"location:\", location)\n",
    "\n",
    "idx = np.argmax(sizes) # get the index of the largest blob\n",
    "print(\"index:\", idx)\n",
    "\n",
    "plt.figure(figsize=(4,4))\n",
    "plt.imshow(x)\n",
    "# arrays are indexed [column, row] whereas scatter plots are ordered [x, y]\n",
    "# so we need to reverse the order of the indices\n",
    "plt.scatter(location[1], location[0], marker=\"x\", s=300, lw=3)\n",
    "\n",
    "plt.savefig(\"sixbysix_marked.png\")\n",
    "\n",
    "\n"
   ]
  }
 ],
 "metadata": {
  "kernelspec": {
   "display_name": "Python 3 (system-wide)",
   "language": "python",
   "metadata": {
    "cocalc": {
     "description": "Python 3 programming language",
     "priority": 100,
     "url": "https://www.python.org/"
    }
   },
   "name": "python3",
   "resource_dir": "/ext/jupyter/kernels/python3"
  },
  "language_info": {
   "codemirror_mode": {
    "name": "ipython",
    "version": 3
   },
   "file_extension": ".py",
   "mimetype": "text/x-python",
   "name": "python",
   "nbconvert_exporter": "python",
   "pygments_lexer": "ipython3",
   "version": "3.8.5"
  }
 },
 "nbformat": 4,
 "nbformat_minor": 4
}