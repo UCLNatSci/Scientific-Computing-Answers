{
 "cells": [
  {
   "cell_type": "markdown",
   "metadata": {
    "collapsed": false
   },
   "source": [
    "# NSCI0007 Practice Exam 1\n",
    "## Specimen Answers and Mark Scheme\n",
    "- The specimen code below demonstrates one way to correctly answer the questions.\n",
    "- Full marks will be awarded if the candidate has implemented another suitable method and the code behaves as specified in the question.\n",
    "- If the candidate's code produces an error, or does not behave as specified in the question, partial credit will be awarded as described in the mark scheme.\n",
    "- Where a candidate has used a different method to below, partial credit will be awarded in an analogous way."
   ]
  },
  {
   "cell_type": "markdown",
   "metadata": {
    "collapsed": false
   },
   "source": [
    "## Question 1 [7]"
   ]
  },
  {
   "cell_type": "code",
   "execution_count": 1,
   "metadata": {
    "collapsed": false
   },
   "outputs": [
    {
     "name": "stdout",
     "output_type": "stream",
     "text": [
      "3 0 3\n"
     ]
    }
   ],
   "source": [
    "def overlap(x, y):\n",
    "    n = min(len(x), len(y))\n",
    "    for i in range(n, 0, -1):\n",
    "        if x[-i:] == y[:i]:\n",
    "            return i\n",
    "    return 0\n",
    "\n",
    "n1 = overlap(\"XXXABC\", \"ABCYYY\")\n",
    "n2 = overlap(\"ABCYYY\", \"XXXABC\")\n",
    "n3 = overlap(\"XXXABC\", \"ABC\")\n",
    "print(n1, n2, n3)\n",
    "\n",
    "# [2] find minimum of length of two strings\n",
    "# [1] appropriate looping construct\n",
    "# [2] if statement with correct string indexing\n",
    "# [2] tests pass and function behaves as specified"
   ]
  },
  {
   "cell_type": "markdown",
   "metadata": {
    "collapsed": false
   },
   "source": [
    "## Question 2 [5]"
   ]
  },
  {
   "cell_type": "code",
   "execution_count": 2,
   "metadata": {
    "collapsed": false
   },
   "outputs": [
    {
     "name": "stdout",
     "output_type": "stream",
     "text": [
      "XXXABCYYY ABCYYYXXXABC XXXABC\n"
     ]
    }
   ],
   "source": [
    "def merge(x, y):\n",
    "    i = overlap(x, y)\n",
    "    return x + y[i:]\n",
    "\n",
    "s1 = merge(\"XXXABC\", \"ABCYYY\")\n",
    "s2 = merge(\"ABCYYY\", \"XXXABC\")\n",
    "s3 = merge(\"XXXABC\", \"ABC\")\n",
    "print(s1, s2, s3)\n",
    "\n",
    "# [1] call overlap function\n",
    "# [2] calculate merged string \n",
    "# [2] tests pass and function behaves as specified "
   ]
  },
  {
   "cell_type": "markdown",
   "metadata": {
    "collapsed": false
   },
   "source": [
    "## Question 3 [10]"
   ]
  },
  {
   "cell_type": "code",
   "execution_count": 3,
   "metadata": {
    "collapsed": false
   },
   "outputs": [
    {
     "name": "stdout",
     "output_type": "stream",
     "text": [
      "0 1 3\n"
     ]
    }
   ],
   "source": [
    "def longest_overlap(sequences):\n",
    "    max_overlap = 0\n",
    "    max_i = 0\n",
    "    max_j = 0\n",
    "    for i in range(len(sequences)):\n",
    "        for j in range(len(sequences)):\n",
    "            if i != j:\n",
    "                d = overlap(sequences[i], sequences[j])\n",
    "                if d > max_overlap:\n",
    "                    max_overlap = d\n",
    "                    max_i = i\n",
    "                    max_j = j\n",
    "    \n",
    "    return [max_i, max_j, max_overlap]\n",
    "\n",
    "i, j, k = longest_overlap([\"XXXABC\", \"ABCYYY\", \"BC\"])\n",
    "print(i, j, k)\n",
    "\n",
    "# [1] declare max variables\n",
    "# [2] two nested for loops\n",
    "# [1] test for i=j\n",
    "# [1] call overlap function\n",
    "# [1] check for maximum\n",
    "# [1] update max values\n",
    "# [1] return list of values\n",
    "# [2] tests pass and function behaves as specified"
   ]
  },
  {
   "cell_type": "markdown",
   "metadata": {
    "collapsed": false
   },
   "source": [
    "## Question 4 [10]"
   ]
  },
  {
   "cell_type": "code",
   "execution_count": 4,
   "metadata": {
    "collapsed": false
   },
   "outputs": [
    {
     "data": {
      "text/plain": [
       "['tgaaaattcctttctattttaggcccatgcaatggcattagggcggttaa']"
      ]
     },
     "execution_count": 4,
     "metadata": {},
     "output_type": "execute_result"
    }
   ],
   "source": [
    "def identify_strand(sequences, n):\n",
    "    i, j, d = longest_overlap(sequences)\n",
    "    while d >= n:\n",
    "        z = merge(sequences[i], sequences[j])\n",
    "        del sequences[max(i, j)]\n",
    "        del sequences[min(i, j)]\n",
    "        sequences.append(z)\n",
    "        i, j, d = longest_overlap(sequences)\n",
    "    return sequences\n",
    "\n",
    "# [2] suitable looping construct with correct condition for termination\n",
    "# [1] call merge function\n",
    "# [3] remove two items in correct order\n",
    "# [1] append merged string to list\n",
    "# [1] call longest_overlap function\n",
    "# [2] tests pass and function behaves as specified\n",
    "\n",
    "sequences = ['tgaaaattcctttctattttaggccc', 'tgaaaattcctttctattttaggcccatgcaat', 'ggcattagggcggttaa', 'atgcaatggcattagggcggttaa', 'ggttaa', 'tgaaaattcctttctattt', 'taggcccatgcaatggcattagggc']\n",
    "identify_strand(sequences, 4)\n"
   ]
  },
  {
   "cell_type": "markdown",
   "metadata": {
    "collapsed": false
   },
   "source": [
    "## Question 5 [8]"
   ]
  },
  {
   "cell_type": "code",
   "execution_count": 5,
   "metadata": {
    "collapsed": false,
    "scrolled": true
   },
   "outputs": [
    {
     "name": "stdout",
     "output_type": "stream",
     "text": [
      "['CCCAGGGAGACCACTGACCCATCAACCTGTACGGGAACCTTCTGTATCGTTCTCGGACGGAGAGATAACTACAGTGCCGCTTACAGCCCCTCTGTCGTCG']\n"
     ]
    }
   ],
   "source": [
    "sequence_list = []\n",
    "with open(\"dna_fragments/strand_100.fasta\") as f:\n",
    "    for line in f:\n",
    "        if line[0] != \">\":\n",
    "            sequence_list.append(line.strip())\n",
    "            \n",
    "s = identify_strand(sequence_list, 4)\n",
    "print(s)"
   ]
  },
  {
   "cell_type": "code",
   "execution_count": 6,
   "metadata": {
    "collapsed": false
   },
   "outputs": [
    {
     "name": "stdout",
     "output_type": "stream",
     "text": [
      "['GTGTAGGTTCTGACCGATTCGTGC', 'CCGACGTCTGTAATGTAGCCTCATTGTGATTCCACCCTATTGAGGCATTGACTGATGCGGGAAGAGATCTGAAATGAACTGGTCTATGCGACAGAAACTGTGCAGCTACCTAATCTCCTTAGTGTAGGTTCTGACCGATTCGTGCTTCGTTGAGAACTCACAATTTAACAACAGAGGACATAAGCCCTACGCCCATGATC']\n",
      "CCGACGTCTGTAATGTAGCCTCATTGTGATTCCACCCTATTGAGGCATTGACTGATGCGGGAAGAGATCTGAAATGAACTGGTCTATGCGACAGAAACTGTGCAGCTACCTAATCTCCTTAGTGTAGGTTCTGACCGATTCGTGCTTCGTTGAGAACTCACAATTTAACAACAGAGGACATAAGCCCTACGCCCATGATC\n"
     ]
    }
   ],
   "source": [
    "sequence_list = []\n",
    "with open(\"dna_fragments/strand_200.fasta\") as f:\n",
    "    for line in f:\n",
    "        if line[0] != \">\":\n",
    "            sequence_list.append(line.strip())\n",
    "            \n",
    "s = identify_strand(sequence_list, 4)\n",
    "print(s)\n",
    "print(s[-1]) # longest string is last one in list"
   ]
  },
  {
   "cell_type": "code",
   "execution_count": 7,
   "metadata": {
    "collapsed": false
   },
   "outputs": [
    {
     "name": "stdout",
     "output_type": "stream",
     "text": [
      "AATCTTTTTCACTGACAGTCATATTGGGGTGCTCCTAAGCTTTTCCACTTGGCTGGGTCTGCTAGGCCTCCGTGCCCGGAGTTTCGGCGCTGTGCTGCCGAGAGCCGGCCATTGTCATTGGGGCCTCACTTGAGGATACCCCGACCTATTTTGTCGGGACCACTCGGGGTAGTCGTTGGGCTTATGCACCGTAAAGTCCTCCGCCGGCCTCCCCGCTACAGAAGATGATAAGCTCCGGCAAGCAATTATGAACAACGCAAGGATCGGCGATATAAACAGAGAAACGGCTGATTACACTTGTTCGTGTGGTATCGCTAAATAGCCTCGCGGAGCCTTATGCCATACTCGTCCGCGGAGCACTCTGGTAACGCTTATGGTCCATAGGACATTCATCGCTTCCGGGTATGCGCTCTATTTGACGATCCTTTGGCGCACAGATGCTGGCCACGAGCTAAATTAGAGCGACTGCACAACTGTAAGGTCCGTCACGCAGACGACGG\n"
     ]
    }
   ],
   "source": [
    "sequence_list = []\n",
    "with open(\"dna_fragments/strand_500.fasta\") as f:\n",
    "    for line in f:\n",
    "        if line[0] != \">\":\n",
    "            sequence_list.append(line.strip())\n",
    "            \n",
    "s = identify_strand(sequence_list, 4)\n",
    "print(s[1]) #longest string is last one in list"
   ]
  },
  {
   "cell_type": "code",
   "execution_count": 8,
   "metadata": {
    "collapsed": false
   },
   "outputs": [],
   "source": [
    "# [1] correctly open file\n",
    "# [1] loop over lines\n",
    "# [2] form list of strands ommiting lines starting '>'\n",
    "# [1] call identify_strand\n",
    "# [1] identify longest one (OK to do this by eye but must be commented or otherwise identified)\n",
    "# [2] repeat for the other two files (could be loop or repeated code)"
   ]
  }
 ],
 "metadata": {
  "kernelspec": {
   "display_name": "Python 3 (system-wide)",
   "language": "python",
   "metadata": {
    "cocalc": {
     "description": "Python 3 programming language",
     "priority": 100,
     "url": "https://www.python.org/"
    }
   },
   "name": "python3",
   "resource_dir": "/ext/jupyter/kernels/python3"
  },
  "language_info": {
   "codemirror_mode": {
    "name": "ipython",
    "version": 3
   },
   "file_extension": ".py",
   "mimetype": "text/x-python",
   "name": "python",
   "nbconvert_exporter": "python",
   "pygments_lexer": "ipython3",
   "version": "3.8.10"
  }
 },
 "nbformat": 4,
 "nbformat_minor": 4
}