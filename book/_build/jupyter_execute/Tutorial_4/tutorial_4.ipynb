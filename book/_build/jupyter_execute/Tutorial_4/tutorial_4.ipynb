{
 "cells": [
  {
   "cell_type": "markdown",
   "metadata": {
    "collapsed": false
   },
   "source": [
    "# Tutorial 4\n",
    "\n",
    "## Question 1\n",
    "\n",
    "### Step 1"
   ]
  },
  {
   "cell_type": "code",
   "execution_count": 1,
   "metadata": {
    "collapsed": false
   },
   "outputs": [
    {
     "name": "stdout",
     "output_type": "stream",
     "text": [
      "4\n"
     ]
    }
   ],
   "source": [
    "def start_index(sequence):\n",
    "    n = len(sequence)\n",
    "    for i in range(n):\n",
    "        if sequence[i:i+3] == \"AUG\":\n",
    "            break\n",
    "    return i\n",
    "\n",
    "\n",
    "rna_seq = \"GCAUAUGUUCAUAUGAAUA\"\n",
    "\n",
    "j = start_index(rna_seq)\n",
    "print(j)"
   ]
  },
  {
   "cell_type": "markdown",
   "metadata": {
    "collapsed": false
   },
   "source": [
    "### Step 2\n"
   ]
  },
  {
   "cell_type": "code",
   "execution_count": 2,
   "metadata": {
    "collapsed": false
   },
   "outputs": [
    {
     "name": "stdout",
     "output_type": "stream",
     "text": [
      "K\n"
     ]
    }
   ],
   "source": [
    "def translate(codon):\n",
    "    genetic_code = [\"GCA\", \"GCC\", \"GCG\", \"GCU\", \"UGC\", \"UGU\", \"GAC\", \"GAU\", \"GAA\", \"GAG\", \"UUC\", \"UUU\", \"GGA\", \"GGC\", \"GGG\", \"GGU\", \"CAC\", \"CAU\", \"AUA\", \"AUC\", \"AUU\", \"AAA\", \"AAG\", \"UUA\", \"UUG\", \"CUA\", \"CUC\", \"CUG\", \"CUU\", \"AUG\",                         \"AAC\", \"AAU\", \"CCA\", \"CCC\", \"CCG\", \"CCU\", \"CAA\", \"CAG\", \"AGA\", \"AGG\", \"CGA\", \"CGC\", \"CGU\", \"CGG\", \"AGC\", \"AGU\", \"UCA\", \"UCC\", \"UCG\", \"UCU\", \"ACA\", \"ACC\", \"ACG\", \"ACU\", \"GUA\", \"GUC\", \"GUG\", \"GUU\", \"UGG\", \"UAC\",                         \"UAU\", \"UAG\", \"UAA\", \"UGA\"]\n",
    "\n",
    "    amino_acids = [\"A\", \"A\", \"A\", \"A\", \"C\", \"C\", \"D\", \"D\", \"E\", \"E\", \"F\", \"F\", \"G\", \"G\", \"G\", \"G\", \"H\", \"H\", \"I\", \"I\", \"I\", \"K\", \"K\", \"L\", \"L\", \"L\", \"L\", \"L\", \"L\", \"M\", \"N\", \"N\", \"P\", \"P\", \"P\", \"P\", \"Q\", \"Q\", \"R\", \"R\", \"R\", \"R\",                         \"R\", \"R\", \"S\", \"S\", \"S\", \"S\", \"S\", \"S\", \"T\", \"T\", \"T\", \"T\", \"V\", \"V\", \"V\", \"V\", \"W\", \"Y\", \"Y\", \"!\", \"!\", \"!\"]\n",
    "    i = genetic_code.index(codon)\n",
    "    aa = amino_acids[i]\n",
    "    return aa\n",
    "\n",
    "x = translate(\"AAA\")\n",
    "print(x)"
   ]
  },
  {
   "cell_type": "markdown",
   "metadata": {
    "collapsed": false
   },
   "source": [
    "### Step 3"
   ]
  },
  {
   "cell_type": "code",
   "execution_count": 3,
   "metadata": {
    "collapsed": false
   },
   "outputs": [
    {
     "name": "stdout",
     "output_type": "stream",
     "text": [
      "MFI\n"
     ]
    }
   ],
   "source": [
    "def translate_sequence(sequence):\n",
    "    j = start_index(sequence)\n",
    "    n = len(sequence)\n",
    "    result = \"\"\n",
    "    for i in range(j, n-3, 3):\n",
    "        codon = sequence[i:i+3]\n",
    "        if codon == \"UAG\" or codon == \"UAA\" or codon == \"UGA\":\n",
    "            break\n",
    "        else:\n",
    "            result = result + translate(codon)\n",
    "    return result\n",
    "    \n",
    "\n",
    "rna_seq = \"GCAUAUGUUCAUAUGAAUA\"\n",
    "aa = translate_sequence(rna_seq)\n",
    "print(aa)"
   ]
  },
  {
   "cell_type": "markdown",
   "metadata": {
    "collapsed": false
   },
   "source": [
    "### Step 4"
   ]
  },
  {
   "cell_type": "code",
   "execution_count": 4,
   "metadata": {
    "collapsed": false
   },
   "outputs": [
    {
     "name": "stdout",
     "output_type": "stream",
     "text": [
      "MLPA\n",
      "MNNR\n"
     ]
    }
   ],
   "source": [
    "rna_1 = \"CAACAAUGCUCCCCGCCUAGUUG\"\n",
    "print(translate_sequence(rna_1))\n",
    "\n",
    "rna_2 = \"UAAAAUGAAUAAUAGAUAA\"\n",
    "print(translate_sequence(rna_2))"
   ]
  },
  {
   "cell_type": "markdown",
   "metadata": {
    "collapsed": false
   },
   "source": [
    "## Question 2\n",
    "\n",
    "The answer below includes only the English and French languages. It is not difficult to extend to further languages.\n",
    "\n",
    "How might  you extend to an arbitrary number of languages...?"
   ]
  },
  {
   "cell_type": "code",
   "execution_count": 5,
   "metadata": {
    "collapsed": false
   },
   "outputs": [
    {
     "name": "stdout",
     "output_type": "stream",
     "text": [
      "French\n"
     ]
    },
    {
     "data": {
      "image/png": "[encoded data removed]",
      "text/plain": [
       "<Figure size 360x216 with 1 Axes>"
      ]
     },
     "metadata": {
      "filenames": {
       "image/png": "/home/user/Scientific-Computing-Answers/book/_build/jupyter_execute/Tutorial_4/tutorial_4_9_1.png"
      },
      "image/png": {
       "height": 193,
       "width": 336
      },
      "needs_background": "light"
     },
     "output_type": "display_data"
    }
   ],
   "source": [
    "import matplotlib.pyplot as plt\n",
    "\n",
    "freq_french = [7.60, 0.96, 3.39, 4.08, 14.47, 1.12, 1.18, 0.93, 7.21, 0.30, 0.16, 5.86, 2.78, 7.32, 5.39, 2.98, 0.85, 6.86, 7.98, 7.11, 5.55, 1.29, 0.08, 0.43, 0.34, 0.10]\n",
    "s = sum(freq_french)\n",
    "# ensure the sum is 1\n",
    "for i in range(26):\n",
    "    freq_french[i] /= s\n",
    "\n",
    "freq_eng = [8.34, 1.54, 2.73, 4.14, 12.60, 2.03, 1.92, 6.11, 6.71, 0.23, 0.87, 4.24, 2.53, 6.80, 7.70, 1.66, 0.09, 5.68, 6.11, 9.37, 2.85, 1.06, 2.34, 0.20, 2.04, 0.06]\n",
    "s = sum(freq_eng)\n",
    "# ensure the sum is 1\n",
    "for i in range(26):\n",
    "    freq_eng[i] /= s\n",
    "\n",
    "\n",
    "with open(\"french.txt\") as f:\n",
    "     text = f.read()\n",
    "\n",
    "alphabet = \"abcdefghijklmnopqrstuvwxyz\"\n",
    "\n",
    "counts = [0] * 26 # this syntax creates a list containing 26 zeros\n",
    "\n",
    "text = text.lower()\n",
    "for c in text:\n",
    "    i = alphabet.find(c)\n",
    "    if i > -1:\n",
    "        counts[i] += 1\n",
    "\n",
    "s = sum(counts)\n",
    "\n",
    "for i in range(26):\n",
    "    counts[i] = counts[i] / s\n",
    "\n",
    "plt.figure(figsize=(5,3))\n",
    "plt.bar(list(alphabet), counts)\n",
    "plt.ylabel(\"frequency\")\n",
    "\n",
    "sim_eng = 0\n",
    "sim_french = 0\n",
    "for i in range(26):\n",
    "    sim_eng += (freq_eng[i] - counts[i])**2\n",
    "    sim_french += (freq_french[i] - counts[i])**2\n",
    "    \n",
    "m = min(sim_eng, sim_french)\n",
    "if m == sim_eng:\n",
    "    print(\"English\")\n",
    "elif m == sim_french:\n",
    "    print(\"French\")"
   ]
  }
 ],
 "metadata": {
  "kernelspec": {
   "display_name": "Python 3 (system-wide)",
   "language": "python",
   "metadata": {
    "cocalc": {
     "description": "Python 3 programming language",
     "priority": 100,
     "url": "https://www.python.org/"
    }
   },
   "name": "python3",
   "resource_dir": "/ext/jupyter/kernels/python3"
  },
  "language_info": {
   "codemirror_mode": {
    "name": "ipython",
    "version": 3
   },
   "file_extension": ".py",
   "mimetype": "text/x-python",
   "name": "python",
   "nbconvert_exporter": "python",
   "pygments_lexer": "ipython3",
   "version": "3.8.10"
  }
 },
 "nbformat": 4,
 "nbformat_minor": 4
}